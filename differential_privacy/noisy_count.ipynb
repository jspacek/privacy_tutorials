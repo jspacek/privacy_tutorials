{
 "cells": [
  {
   "cell_type": "markdown",
   "id": "0d52d133",
   "metadata": {},
   "source": [
    "## Differential Privacy Noisy Count\n",
    "\n",
    "We have a count of a items in a dataset that we want to protect using differential privacy."
   ]
  },
  {
   "cell_type": "code",
   "execution_count": 14,
   "id": "595c882d",
   "metadata": {},
   "outputs": [
    {
     "name": "stdout",
     "output_type": "stream",
     "text": [
      "52\n"
     ]
    }
   ],
   "source": [
    "import string, numpy\n",
    "\n",
    "items = string.ascii_letters\n",
    "count = len(items)\n",
    "print(count)"
   ]
  },
  {
   "cell_type": "markdown",
   "id": "83bd4a1d",
   "metadata": {},
   "source": [
    "52 is the true count of the items in the dataset.\n",
    "We want to protect this number by adding noise every time we are asked to provide a count.\n",
    "We will sample a La Place distribution to add an intentional amount of noise.\n",
    "\n",
    "Note that this is not secure noise, and should not be used in production.\n",
    "\n",
    "(More information about secure noise calculation at https://crysp.uwaterloo.ca/courses/pet/F18/cache/Mironov.pdf)"
   ]
  },
  {
   "cell_type": "code",
   "execution_count": 18,
   "id": "f2cc0186",
   "metadata": {},
   "outputs": [
    {
     "name": "stdout",
     "output_type": "stream",
     "text": [
      "1.0\n"
     ]
    }
   ],
   "source": [
    "sensitivity = 1 # because each item contributes maximum 1 to the count\n",
    "epsilon = 1 # adding 1 to cover the sensitivy\n",
    "sd = sensitivity/epsilon\n",
    "print(sd)"
   ]
  },
  {
   "cell_type": "code",
   "execution_count": 17,
   "id": "e4cd8c9e",
   "metadata": {},
   "outputs": [
    {
     "name": "stdout",
     "output_type": "stream",
     "text": [
      "[-0.90190751  0.57938248 -1.73095831 -0.15694593  0.41539131  0.66160025\n",
      " -0.49477119  0.75573815  1.16586153 -0.31335558 -0.91580132 -0.13771902\n",
      "  0.27303153 -5.52317326 -1.78228716  1.04040481 -5.14329825 -2.47149177\n",
      " -0.58820856  1.3793325   0.66408564  2.59431548  0.29682159  0.10639332\n",
      " -1.67117792 -0.16815014  0.8477155   2.16502799 -0.50965093  0.0843425\n",
      "  0.58313832 -0.88716097 -0.40629403  0.98534624 -1.09612156  2.95306738\n",
      " -0.64581623  1.26417784 -2.60918558  3.1808945   0.89762186  0.5579245\n",
      "  1.51182327 -0.84032861  0.22124211 -4.19802177  0.14340636  3.18184028\n",
      " -2.30414476  0.67867436 -0.37663594 -0.32438614  0.08352621  0.10192547\n",
      "  1.95155995  0.62934463 -1.26354983  0.0428272   0.3180022  -1.10347438\n",
      " -2.01768048 -0.37589607 -0.61399993 -0.08985451 -0.24437749  0.02566168\n",
      "  0.50565929 -1.57333089  0.19032873 -0.59019664  0.01591035 -0.18912134\n",
      " -1.16671133 -2.01756691  2.76912307  0.11281112 -0.34835663 -0.36639147\n",
      " -0.05534425 -0.94841086 -0.294711    0.10445422  0.00922189  0.63631478\n",
      "  0.47984523  0.6117331   0.21159852 -1.34697319  0.02577089 -2.80911648\n",
      " -0.21366225 -1.49232089  1.2961949  -0.56667195  0.2185551  -0.33176022\n",
      " -0.72578394 -0.2461436   2.08268189 -0.89370392]\n"
     ]
    }
   ],
   "source": [
    "print(numpy.random.laplace(0,sd,100))"
   ]
  },
  {
   "cell_type": "code",
   "execution_count": null,
   "id": "3e22c1d0",
   "metadata": {},
   "outputs": [],
   "source": []
  }
 ],
 "metadata": {
  "kernelspec": {
   "display_name": "Python 3",
   "language": "python",
   "name": "python3"
  },
  "language_info": {
   "codemirror_mode": {
    "name": "ipython",
    "version": 3
   },
   "file_extension": ".py",
   "mimetype": "text/x-python",
   "name": "python",
   "nbconvert_exporter": "python",
   "pygments_lexer": "ipython3",
   "version": "3.9.1"
  }
 },
 "nbformat": 4,
 "nbformat_minor": 5
}
